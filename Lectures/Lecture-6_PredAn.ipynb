{
  "nbformat": 4,
  "nbformat_minor": 0,
  "metadata": {
    "colab": {
      "name": "Lecture-6_PredAn.ipynb",
      "provenance": [],
      "collapsed_sections": []
    },
    "kernelspec": {
      "name": "python3",
      "display_name": "Python 3"
    }
  },
  "cells": [
    {
      "cell_type": "code",
      "metadata": {
        "id": "uZhF-44jVOxP",
        "colab_type": "code",
        "colab": {}
      },
      "source": [
        "#How does KNN performs when the data is original vs dimensionally reduced? \n",
        "\n",
        "#Load the iris dataset and build a KNN algorithm\n",
        "#Use PCA to perform dimensionality reduction and repeat the previous steps\n",
        "\n",
        "import pandas as pd\n",
        "import seaborn as sns\n",
        "from sklearn import datasets\n",
        "from sklearn.tree import DecisionTreeClassifier\n",
        "from sklearn.model_selection import train_test_split\n",
        "from sklearn import metrics\n",
        "from sklearn.neighbors import KNeighborsClassifier\n",
        "\n",
        "\n",
        "iris = datasets.load_iris()\n",
        "\n",
        "X = iris.data[:, :]  # we only take the first two features.\n",
        "y = iris.target\n",
        "\n",
        "#print(X)\n",
        "#print(y)\n",
        "\n",
        "\n",
        "X_train, X_test, y_train, y_test = train_test_split(X, y, test_size=0.3, random_state=1)"
      ],
      "execution_count": 0,
      "outputs": []
    },
    {
      "cell_type": "code",
      "metadata": {
        "id": "qvkKW0RhVQdH",
        "colab_type": "code",
        "outputId": "fa912b62-8d00-4b68-92fb-397580f3d949",
        "colab": {
          "base_uri": "https://localhost:8080/",
          "height": 35
        }
      },
      "source": [
        "# fit a KNN model\n",
        "model = KNeighborsClassifier(n_neighbors=3)\n",
        "model.fit(X_train, y_train)\n",
        "\n",
        "# predict probabilities\n",
        "y_pred = model.predict(X_test)\n",
        "  \n",
        "#print(y_pred)\n",
        "\n",
        "print(\"Accuracy:\",round(metrics.accuracy_score(y_test, y_pred), 2))\n",
        "#metrics.accuracy_score(y_test, y_pred)"
      ],
      "execution_count": 0,
      "outputs": [
        {
          "output_type": "stream",
          "text": [
            "Accuracy: 0.98\n"
          ],
          "name": "stdout"
        }
      ]
    },
    {
      "cell_type": "code",
      "metadata": {
        "id": "as07dgr-VRuy",
        "colab_type": "code",
        "outputId": "a6ba7b39-f2a9-4221-ec6a-5a96023a51b1",
        "colab": {
          "base_uri": "https://localhost:8080/",
          "height": 35
        }
      },
      "source": [
        "from sklearn.decomposition import PCA\n",
        "pca = PCA(n_components=1)\n",
        "\n",
        "iris = datasets.load_iris()\n",
        "\n",
        "X = iris.data[:, :]  # we only take the first two features.\n",
        "y = iris.target\n",
        "\n",
        "\n",
        "X_pca = pca.fit_transform(X)\n",
        "print(pca.explained_variance_ratio_)"
      ],
      "execution_count": 0,
      "outputs": [
        {
          "output_type": "stream",
          "text": [
            "[0.92461872]\n"
          ],
          "name": "stdout"
        }
      ]
    },
    {
      "cell_type": "code",
      "metadata": {
        "id": "H8xZyeoAVTgI",
        "colab_type": "code",
        "outputId": "80fdd171-6d24-4173-decf-70816de31e70",
        "colab": {
          "base_uri": "https://localhost:8080/",
          "height": 35
        }
      },
      "source": [
        "X_train, X_test, y_train, y_test = train_test_split(X_pca, y, test_size=0.3, random_state=1)\n",
        "\n",
        "# fit a KNN model\n",
        "model = KNeighborsClassifier(n_neighbors=3)\n",
        "model.fit(X_train, y_train)\n",
        "\n",
        "# predict probabilities\n",
        "y_pred = model.predict(X_test)\n",
        "  \n",
        "#print(y_pred)\n",
        "\n",
        "print(\"Accuracy:\",round(metrics.accuracy_score(y_test, y_pred), 2))\n",
        "#metrics.accuracy_score(y_test, y_pred)\n"
      ],
      "execution_count": 0,
      "outputs": [
        {
          "output_type": "stream",
          "text": [
            "Accuracy: 0.93\n"
          ],
          "name": "stdout"
        }
      ]
    }
  ]
}