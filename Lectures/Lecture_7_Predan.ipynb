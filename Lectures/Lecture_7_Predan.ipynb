{
  "nbformat": 4,
  "nbformat_minor": 0,
  "metadata": {
    "colab": {
      "name": "Lecture-7_Predan.ipynb",
      "provenance": [],
      "collapsed_sections": []
    },
    "kernelspec": {
      "name": "python3",
      "display_name": "Python 3"
    }
  },
  "cells": [
    {
      "cell_type": "markdown",
      "metadata": {
        "id": "CS3hWIuJEe9-",
        "colab_type": "text"
      },
      "source": [
        "## Introduction to Natural Language Processing\n",
        "\n",
        "In this workbook, at a high-level we will learn about text tokenization; text normalization such as lowercasing, stemming; part-of-speech tagging; Named entity recognition; Sentiment analysis; Topic modeling; Word embeddings\n",
        "\n",
        "\n",
        "\n"
      ]
    },
    {
      "cell_type": "code",
      "metadata": {
        "id": "TkXwl0p1G6Gl",
        "colab_type": "code",
        "outputId": "44e3c717-52b9-424a-b2ac-c3f92c420c17",
        "colab": {
          "base_uri": "https://localhost:8080/",
          "height": 156
        }
      },
      "source": [
        "####PLEASE EXECUTE THESE COMMANDS BEFORE PROCEEDING####\n",
        "\n",
        "import nltk\n",
        "nltk.download('punkt')\n",
        "nltk.download('averaged_perceptron_tagger')\n",
        "nltk.download('stopwords')"
      ],
      "execution_count": 0,
      "outputs": [
        {
          "output_type": "stream",
          "text": [
            "[nltk_data] Downloading package punkt to /root/nltk_data...\n",
            "[nltk_data]   Unzipping tokenizers/punkt.zip.\n",
            "[nltk_data] Downloading package averaged_perceptron_tagger to\n",
            "[nltk_data]     /root/nltk_data...\n",
            "[nltk_data]   Unzipping taggers/averaged_perceptron_tagger.zip.\n",
            "[nltk_data] Downloading package stopwords to /root/nltk_data...\n",
            "[nltk_data]   Unzipping corpora/stopwords.zip.\n"
          ],
          "name": "stdout"
        },
        {
          "output_type": "execute_result",
          "data": {
            "text/plain": [
              "True"
            ]
          },
          "metadata": {
            "tags": []
          },
          "execution_count": 1
        }
      ]
    },
    {
      "cell_type": "code",
      "metadata": {
        "id": "L_pNvP0lDAZR",
        "colab_type": "code",
        "outputId": "db9b0390-c46c-4090-9078-18d1d123b77c",
        "colab": {
          "base_uri": "https://localhost:8080/",
          "height": 69
        }
      },
      "source": [
        "#Tokenization -- Text into word tokens; Paragraphs into sentences;\n",
        "from nltk.tokenize import sent_tokenize \n",
        "  \n",
        "text = \"Hello everyone. Welcome to Applied Analytics and Predictive Modeling. We are now learning important basics of NLP.\"\n",
        "sent_tokenize(text) \n",
        "\n"
      ],
      "execution_count": 0,
      "outputs": [
        {
          "output_type": "execute_result",
          "data": {
            "text/plain": [
              "['Hello everyone.',\n",
              " 'Welcome to Applied Analytics and Predictive Modeling.',\n",
              " 'We are now learning important basics of NLP.']"
            ]
          },
          "metadata": {
            "tags": []
          },
          "execution_count": 2
        }
      ]
    },
    {
      "cell_type": "code",
      "metadata": {
        "id": "pqkXKzNOG_CP",
        "colab_type": "code",
        "outputId": "9528f80d-3161-4d83-dbdc-52f9875e6e4c",
        "colab": {
          "base_uri": "https://localhost:8080/",
          "height": 35
        }
      },
      "source": [
        "import nltk.data \n",
        "  \n",
        "german_tokenizer = nltk.data.load('tokenizers/punkt/PY3/german.pickle') \n",
        "  \n",
        "text = 'Wie geht es Ihnen? Mir geht es gut.'\n",
        "german_tokenizer.tokenize(text) \n"
      ],
      "execution_count": 0,
      "outputs": [
        {
          "output_type": "execute_result",
          "data": {
            "text/plain": [
              "['Wie geht es Ihnen?', 'Mir geht es gut.']"
            ]
          },
          "metadata": {
            "tags": []
          },
          "execution_count": 3
        }
      ]
    },
    {
      "cell_type": "code",
      "metadata": {
        "id": "AMAa2dymH7f_",
        "colab_type": "code",
        "outputId": "b63a9f6e-8277-4317-e1b8-078f9504c771",
        "colab": {
          "base_uri": "https://localhost:8080/"
        }
      },
      "source": [
        "from nltk.tokenize import word_tokenize \n",
        "  \n",
        "text = \"Hello everyone. Welcome to Applied Analytics and Predictive Modeling. We are now learning important basics of NLP.\"\n",
        "word_tokenize(text) \n",
        "\n"
      ],
      "execution_count": 0,
      "outputs": [
        {
          "output_type": "execute_result",
          "data": {
            "text/plain": [
              "['Hello',\n",
              " 'everyone',\n",
              " '.',\n",
              " 'Welcome',\n",
              " 'to',\n",
              " 'Applied',\n",
              " 'Analytics',\n",
              " 'and',\n",
              " 'Predictive',\n",
              " 'Modeling',\n",
              " '.',\n",
              " 'We',\n",
              " 'are',\n",
              " 'now',\n",
              " 'learning',\n",
              " 'important',\n",
              " 'basics',\n",
              " 'of',\n",
              " 'NLP',\n",
              " '.']"
            ]
          },
          "metadata": {
            "tags": []
          },
          "execution_count": 4
        }
      ]
    },
    {
      "cell_type": "code",
      "metadata": {
        "id": "cdYqZcYCINaK",
        "colab_type": "code",
        "outputId": "b57b7d3d-e237-423f-b0cd-a88c84629681",
        "colab": {
          "base_uri": "https://localhost:8080/"
        }
      },
      "source": [
        "from nltk.tokenize import TreebankWordTokenizer \n",
        "  \n",
        "tokenizer = TreebankWordTokenizer() \n",
        "tokenizer.tokenize(text) \n"
      ],
      "execution_count": 0,
      "outputs": [
        {
          "output_type": "execute_result",
          "data": {
            "text/plain": [
              "['Hello',\n",
              " 'everyone.',\n",
              " 'Welcome',\n",
              " 'to',\n",
              " 'Applied',\n",
              " 'Analytics',\n",
              " 'and',\n",
              " 'Predictive',\n",
              " 'Modeling.',\n",
              " 'We',\n",
              " 'are',\n",
              " 'now',\n",
              " 'learning',\n",
              " 'important',\n",
              " 'basics',\n",
              " 'of',\n",
              " 'NLP',\n",
              " '.']"
            ]
          },
          "metadata": {
            "tags": []
          },
          "execution_count": 5
        }
      ]
    },
    {
      "cell_type": "markdown",
      "metadata": {
        "id": "5yFvaxNeTc-r",
        "colab_type": "text"
      },
      "source": [
        "###n-grams vs tokens\n",
        "\n",
        "##### n-grams are contiguous sequences of n-items in a sentence. N can be 1, 2 or any other positive integers, although usually we do not consider very large N because those n-grams rarely appears in many different places.\n",
        "\n",
        "##### Tokens do not have any conditions on contiguity"
      ]
    },
    {
      "cell_type": "code",
      "metadata": {
        "id": "x_3jEcxcVbA-",
        "colab_type": "code",
        "outputId": "64d3ac1f-8a4c-4e52-a8ad-3cc45ffbeba6",
        "colab": {
          "base_uri": "https://localhost:8080/"
        }
      },
      "source": [
        "#Using pure python\n",
        "\n",
        "import re\n",
        "\n",
        "def generate_ngrams(text, n):\n",
        "    # Convert to lowercases\n",
        "    text = text.lower()\n",
        "    \n",
        "    # Replace all none alphanumeric characters with spaces\n",
        "    text = re.sub(r'[^a-zA-Z0-9\\s]', ' ', text)\n",
        "    \n",
        "    # Break sentence in the token, remove empty tokens\n",
        "    tokens = [token for token in text.split(\" \") if token != \"\"]\n",
        "    \n",
        "    # Use the zip function to help us generate n-grams\n",
        "    # Concatentate the tokens into ngrams and return\n",
        "    ngrams = zip(*[tokens[i:] for i in range(n)])\n",
        "    return [\" \".join(ngram) for ngram in ngrams]\n",
        "\n",
        "text = \"Hello everyone. Welcome to Applied Analytics and Predictive Modeling. We are now learning important basics of NLP.\"\n",
        "print(text)\n",
        "generate_ngrams(text, n=2)"
      ],
      "execution_count": 0,
      "outputs": [
        {
          "output_type": "stream",
          "text": [
            "Hello everyone. Welcome to Applied Analytics and Predictive Modeling. We are now learning important basics of NLP.\n"
          ],
          "name": "stdout"
        },
        {
          "output_type": "execute_result",
          "data": {
            "text/plain": [
              "['hello everyone',\n",
              " 'everyone welcome',\n",
              " 'welcome to',\n",
              " 'to applied',\n",
              " 'applied analytics',\n",
              " 'analytics and',\n",
              " 'and predictive',\n",
              " 'predictive modeling',\n",
              " 'modeling we',\n",
              " 'we are',\n",
              " 'are now',\n",
              " 'now learning',\n",
              " 'learning important',\n",
              " 'important basics',\n",
              " 'basics of',\n",
              " 'of nlp']"
            ]
          },
          "metadata": {
            "tags": []
          },
          "execution_count": 6
        }
      ]
    },
    {
      "cell_type": "code",
      "metadata": {
        "id": "wz-Mq1T6YQSW",
        "colab_type": "code",
        "outputId": "d752b0ca-e088-403d-df39-c79d21cca3d3",
        "colab": {
          "base_uri": "https://localhost:8080/"
        }
      },
      "source": [
        "#Using NLTK import ngrams\n",
        "\n",
        "import re\n",
        "from nltk.util import ngrams\n",
        "\n",
        "text = text.lower()\n",
        "text = re.sub(r'[^a-zA-Z0-9\\s]', ' ', text)\n",
        "tokens = [token for token in text.split(\" \") if token != \"\"]\n",
        "output = list(ngrams(tokens, 3))\n",
        "print(output)"
      ],
      "execution_count": 0,
      "outputs": [
        {
          "output_type": "stream",
          "text": [
            "[('hello', 'everyone', 'welcome'), ('everyone', 'welcome', 'to'), ('welcome', 'to', 'applied'), ('to', 'applied', 'analytics'), ('applied', 'analytics', 'and'), ('analytics', 'and', 'predictive'), ('and', 'predictive', 'modeling'), ('predictive', 'modeling', 'we'), ('modeling', 'we', 'are'), ('we', 'are', 'now'), ('are', 'now', 'learning'), ('now', 'learning', 'important'), ('learning', 'important', 'basics'), ('important', 'basics', 'of'), ('basics', 'of', 'nlp')]\n"
          ],
          "name": "stdout"
        }
      ]
    },
    {
      "cell_type": "code",
      "metadata": {
        "id": "9BG909xTFbeZ",
        "colab_type": "code",
        "outputId": "e70a0e4d-b69c-49e9-8c0b-e6f64cac6f1b",
        "colab": {
          "base_uri": "https://localhost:8080/"
        }
      },
      "source": [
        "#Text Normalization\n",
        "\n",
        "#Lowercasing\n",
        "text = \"Hello everyone. Welcome to Applied Analytics and Predictive Modeling. We are now learning important basics of NLP.\"\n",
        "lowert = text.lower()\n",
        "uppert = text.upper()\n",
        "\n",
        "print(lowert)\n",
        "print(uppert)\n"
      ],
      "execution_count": 0,
      "outputs": [
        {
          "output_type": "stream",
          "text": [
            "hello everyone. welcome to applied analytics and predictive modeling. we are now learning important basics of nlp.\n",
            "HELLO EVERYONE. WELCOME TO APPLIED ANALYTICS AND PREDICTIVE MODELING. WE ARE NOW LEARNING IMPORTANT BASICS OF NLP.\n"
          ],
          "name": "stdout"
        }
      ]
    },
    {
      "cell_type": "code",
      "metadata": {
        "id": "1JxdoZyaY-iP",
        "colab_type": "code",
        "outputId": "d0e317df-bfa4-47c3-c1b1-43f7eb2b5f07",
        "colab": {
          "base_uri": "https://localhost:8080/"
        }
      },
      "source": [
        "#Text Normalization\n",
        "#stemming\n",
        "#Porter stemmer is a famous stemming approach\n",
        "\n",
        "from nltk.stem import PorterStemmer \n",
        "from nltk.tokenize import word_tokenize \n",
        "   \n",
        "ps = PorterStemmer() \n",
        "  \n",
        "# choose some words to be stemmed \n",
        "words = [\"hike\", \"hikes\", \"hiked\", \"hiking\", \"hikers\", \"hiker\"] \n",
        "  \n",
        "for w in words: \n",
        "    print(w, \" : \", ps.stem(w)) \n",
        "\n"
      ],
      "execution_count": 0,
      "outputs": [
        {
          "output_type": "stream",
          "text": [
            "hike  :  hike\n",
            "hikes  :  hike\n",
            "hiked  :  hike\n",
            "hiking  :  hike\n",
            "hikers  :  hiker\n",
            "hiker  :  hiker\n"
          ],
          "name": "stdout"
        }
      ]
    },
    {
      "cell_type": "code",
      "metadata": {
        "id": "x6EM6ADdZYbL",
        "colab_type": "code",
        "outputId": "3ce744d2-8796-40ea-fa7a-2a954f268192",
        "colab": {
          "base_uri": "https://localhost:8080/",
          "height": 52
        }
      },
      "source": [
        "from nltk.stem import PorterStemmer \n",
        "from nltk.tokenize import word_tokenize \n",
        "import re\n",
        "   \n",
        "ps = PorterStemmer() \n",
        "text = \"Hello everyone. Welcome to Applied Analytics and Predictive Modeling. We are now learning important basics of NLP.\"\n",
        "print(text)\n",
        "\n",
        "\n",
        "#Tokenize and stem the words\n",
        "text = re.sub(r'[^a-zA-Z0-9\\s]', ' ', text)\n",
        "tokens = [token for token in text.split(\" \") if token != \"\"]\n",
        "\n",
        "i=0\n",
        "while i<len(tokens):\n",
        "  tokens[i]=ps.stem(tokens[i])\n",
        "  i=i+1\n",
        "\n",
        "#merge all the tokens to form a long text sequence \n",
        "text2 = ' '.join(tokens) \n",
        "\n",
        "print(text2)"
      ],
      "execution_count": 0,
      "outputs": [
        {
          "output_type": "stream",
          "text": [
            "Hello everyone. Welcome to Applied Analytics and Predictive Modeling. We are now learning important basics of NLP.\n",
            "hello everyon welcom to appli analyt and predict model We are now learn import basic of nlp\n"
          ],
          "name": "stdout"
        }
      ]
    },
    {
      "cell_type": "code",
      "metadata": {
        "id": "PQg-2u17aWQh",
        "colab_type": "code",
        "outputId": "c1657c01-ad28-4175-dc2c-bbb7dd99ef68",
        "colab": {
          "base_uri": "https://localhost:8080/",
          "height": 52
        }
      },
      "source": [
        "from nltk.stem.snowball import SnowballStemmer\n",
        "from nltk.tokenize import word_tokenize \n",
        "import re\n",
        "   \n",
        "ss = SnowballStemmer(\"english\")\n",
        "text = \"Hello everyone. Welcome to Applied Analytics and Predictive Modeling. We are now learning important basics of NLP.\"\n",
        "print(text)\n",
        "\n",
        "\n",
        "#Tokenize and stem the words\n",
        "text = re.sub(r'[^a-zA-Z0-9\\s]', ' ', text)\n",
        "tokens = [token for token in text.split(\" \") if token != \"\"]\n",
        "\n",
        "i=0\n",
        "while i<len(tokens):\n",
        "  tokens[i]=ss.stem(tokens[i])\n",
        "  i=i+1\n",
        "\n",
        "#merge all the tokens to form a long text sequence \n",
        "text2 = ' '.join(tokens) \n",
        "\n",
        "print(text2)"
      ],
      "execution_count": 0,
      "outputs": [
        {
          "output_type": "stream",
          "text": [
            "Hello everyone. Welcome to Applied Analytics and Predictive Modeling. We are now learning important basics of NLP.\n",
            "hello everyon welcom to appli analyt and predict model we are now learn import basic of nlp\n"
          ],
          "name": "stdout"
        }
      ]
    },
    {
      "cell_type": "code",
      "metadata": {
        "id": "DQkySHTBldBj",
        "colab_type": "code",
        "outputId": "9a6e9930-2bf7-4a8e-cfee-1db2b98b04d4",
        "colab": {
          "base_uri": "https://localhost:8080/"
        }
      },
      "source": [
        "#Stopwords removal \n",
        "\n",
        "from nltk.corpus import stopwords \n",
        "from nltk.tokenize import word_tokenize \n",
        "\n",
        "text = \"Hello everyone. Welcome to Applied Analytics and Predictive Modeling. We are now learning important basics of NLP.\"\n",
        "\n",
        "stop_words = set(stopwords.words('english')) \n",
        "word_tokens = word_tokenize(text) \n",
        "  \n",
        "filtered_sentence = [w for w in word_tokens if not w in stop_words] \n",
        "  \n",
        "filtered_sentence = [] \n",
        "  \n",
        "for w in word_tokens: \n",
        "    if w not in stop_words: \n",
        "        filtered_sentence.append(w) \n",
        "  \n",
        "print(word_tokens) \n",
        "print(filtered_sentence) \n",
        "\n",
        "text2 = ' '.join(filtered_sentence)"
      ],
      "execution_count": 0,
      "outputs": [
        {
          "output_type": "stream",
          "text": [
            "['Hello', 'everyone', '.', 'Welcome', 'to', 'Applied', 'Analytics', 'and', 'Predictive', 'Modeling', '.', 'We', 'are', 'now', 'learning', 'important', 'basics', 'of', 'NLP', '.']\n",
            "['Hello', 'everyone', '.', 'Welcome', 'Applied', 'Analytics', 'Predictive', 'Modeling', '.', 'We', 'learning', 'important', 'basics', 'NLP', '.']\n"
          ],
          "name": "stdout"
        }
      ]
    },
    {
      "cell_type": "code",
      "metadata": {
        "id": "ejWwVdZebHlA",
        "colab_type": "code",
        "outputId": "65b54e01-096f-4896-ceac-510e7252c4b2",
        "colab": {
          "base_uri": "https://localhost:8080/",
          "height": 55
        }
      },
      "source": [
        "#Part-of-Speech tagging\n",
        "\n",
        "import nltk\n",
        "from nltk.tokenize import word_tokenize\n",
        "from nltk.tag import pos_tag\n",
        "\n",
        "text = 'GitHub is a development platform inspired by the way you work. From open source to business, you can host and review code, manage projects, and build software alongside 40 million developers.'\n",
        "\n",
        "def preprocess(sent):\n",
        "    sent = nltk.word_tokenize(sent)\n",
        "    sent = nltk.pos_tag(sent)\n",
        "    return sent\n",
        "\n",
        "sent = preprocess(text)\n",
        "print(sent)\n"
      ],
      "execution_count": 0,
      "outputs": [
        {
          "output_type": "stream",
          "text": [
            "[('GitHub', 'NNP'), ('is', 'VBZ'), ('a', 'DT'), ('development', 'NN'), ('platform', 'NN'), ('inspired', 'VBN'), ('by', 'IN'), ('the', 'DT'), ('way', 'NN'), ('you', 'PRP'), ('work', 'VBP'), ('.', '.'), ('From', 'IN'), ('open', 'JJ'), ('source', 'NN'), ('to', 'TO'), ('business', 'NN'), (',', ','), ('you', 'PRP'), ('can', 'MD'), ('host', 'VB'), ('and', 'CC'), ('review', 'VB'), ('code', 'NN'), (',', ','), ('manage', 'NN'), ('projects', 'NNS'), (',', ','), ('and', 'CC'), ('build', 'VB'), ('software', 'NN'), ('alongside', 'RB'), ('40', 'CD'), ('million', 'CD'), ('developers', 'NNS'), ('.', '.')]\n"
          ],
          "name": "stdout"
        }
      ]
    },
    {
      "cell_type": "code",
      "metadata": {
        "id": "8nQvO9BTFdGh",
        "colab_type": "code",
        "outputId": "43470d18-1e19-4f18-da6d-61b10132dd19",
        "colab": {
          "base_uri": "https://localhost:8080/",
          "height": 52
        }
      },
      "source": [
        "#Named entity recognition\n",
        "\n",
        "#spaCy is an NLP Framework -- easy to use and having ability to use neural networks\n",
        "\n",
        "import en_core_web_sm\n",
        "nlp = en_core_web_sm.load()\n",
        "\n",
        "text = 'GitHub is a development platform inspired by the way you work. From open source to business, you can host and review code, manage projects, and build software alongside 40 million developers.'\n",
        "\n",
        "doc = nlp(text)\n",
        "print(doc.ents)\n",
        "print([(X.text, X.label_) for X in doc.ents])"
      ],
      "execution_count": 0,
      "outputs": [
        {
          "output_type": "stream",
          "text": [
            "(GitHub, 40 million)\n",
            "[('GitHub', 'ORG'), ('40 million', 'CARDINAL')]\n"
          ],
          "name": "stdout"
        }
      ]
    },
    {
      "cell_type": "code",
      "metadata": {
        "id": "Hg-BTKVxFgSP",
        "colab_type": "code",
        "colab": {}
      },
      "source": [
        "#Sentiment analysis"
      ],
      "execution_count": 0,
      "outputs": []
    },
    {
      "cell_type": "code",
      "metadata": {
        "id": "_FcpVeeZFiA4",
        "colab_type": "code",
        "colab": {}
      },
      "source": [
        "#Topic modeling"
      ],
      "execution_count": 0,
      "outputs": []
    },
    {
      "cell_type": "code",
      "metadata": {
        "id": "b0-mQ_AMFlmn",
        "colab_type": "code",
        "colab": {}
      },
      "source": [
        "#Word embeddings\n"
      ],
      "execution_count": 0,
      "outputs": []
    },
    {
      "cell_type": "markdown",
      "metadata": {
        "id": "bQ5DZ_ZkI74h",
        "colab_type": "text"
      },
      "source": [
        "#Class exercise\n",
        "\n",
        "#### 1. Read a file from its URL \n",
        "#### 2. Extract the text and tokenize it meaningfully into words. \n",
        "#### 3. Print the entire text combined after tokenization. \n",
        "#### 4. Perform stemming using both porter and snowball stemmers. Which one works the best? Why? \n",
        "#### 5. Remove stopwords\n",
        "#### 6. Print unigrams and their frequencies. \n"
      ]
    },
    {
      "cell_type": "code",
      "metadata": {
        "id": "uHvXv_uILCvo",
        "colab_type": "code",
        "outputId": "1d4a6b8e-5b95-4d8f-e27f-af021cb19814",
        "colab": {
          "base_uri": "https://localhost:8080/",
          "height": 384
        }
      },
      "source": [
        "\n",
        "#Load the file first\n",
        "!wget https://www.dropbox.com/s/o8lxi6yrezmt5em/reviews.txt\n"
      ],
      "execution_count": 0,
      "outputs": [
        {
          "output_type": "stream",
          "text": [
            "--2020-03-02 04:37:00--  https://www.dropbox.com/s/o8lxi6yrezmt5em/reviews.txt\n",
            "Resolving www.dropbox.com (www.dropbox.com)... 162.125.9.1, 2620:100:601b:1::a27d:801\n",
            "Connecting to www.dropbox.com (www.dropbox.com)|162.125.9.1|:443... connected.\n",
            "HTTP request sent, awaiting response... 301 Moved Permanently\n",
            "Location: /s/raw/o8lxi6yrezmt5em/reviews.txt [following]\n",
            "--2020-03-02 04:37:00--  https://www.dropbox.com/s/raw/o8lxi6yrezmt5em/reviews.txt\n",
            "Reusing existing connection to www.dropbox.com:443.\n",
            "HTTP request sent, awaiting response... 302 Found\n",
            "Location: https://uc61e89e3d6ada41f9fda2a35236.dl.dropboxusercontent.com/cd/0/inline/AzKI77emxhA3XQDa26dkxyUkMsoY1F660mIHJW9GOYyUls7GZl2nXaAtVeLaApL1Gp2bV9rVFn-nlaSWBaTR2CMH2yP5HG9T8pKw_pf0sshIT4eLgYDsxGHnJqrMXJZOO7k/file# [following]\n",
            "--2020-03-02 04:37:01--  https://uc61e89e3d6ada41f9fda2a35236.dl.dropboxusercontent.com/cd/0/inline/AzKI77emxhA3XQDa26dkxyUkMsoY1F660mIHJW9GOYyUls7GZl2nXaAtVeLaApL1Gp2bV9rVFn-nlaSWBaTR2CMH2yP5HG9T8pKw_pf0sshIT4eLgYDsxGHnJqrMXJZOO7k/file\n",
            "Resolving uc61e89e3d6ada41f9fda2a35236.dl.dropboxusercontent.com (uc61e89e3d6ada41f9fda2a35236.dl.dropboxusercontent.com)... 162.125.9.6, 2620:100:601f:6::a27d:906\n",
            "Connecting to uc61e89e3d6ada41f9fda2a35236.dl.dropboxusercontent.com (uc61e89e3d6ada41f9fda2a35236.dl.dropboxusercontent.com)|162.125.9.6|:443... connected.\n",
            "HTTP request sent, awaiting response... 200 OK\n",
            "Length: 3851 (3.8K) [text/plain]\n",
            "Saving to: ‘reviews.txt’\n",
            "\n",
            "reviews.txt         100%[===================>]   3.76K  --.-KB/s    in 0s      \n",
            "\n",
            "2020-03-02 04:37:01 (661 MB/s) - ‘reviews.txt’ saved [3851/3851]\n",
            "\n"
          ],
          "name": "stdout"
        }
      ]
    }
  ]
}