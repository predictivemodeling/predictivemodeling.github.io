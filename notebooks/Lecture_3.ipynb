{
  "nbformat": 4,
  "nbformat_minor": 0,
  "metadata": {
    "colab": {
      "name": "PredictiveAnalytics-Lecture-3.ipynb",
      "provenance": [],
      "collapsed_sections": []
    },
    "kernelspec": {
      "name": "python3",
      "display_name": "Python 3"
    }
  },
  "cells": [
    {
      "cell_type": "code",
      "metadata": {
        "id": "lJkZsDdE9jI9",
        "colab": {
          "base_uri": "https://localhost:8080/"
        },
        "outputId": "f993332c-e931-433e-d29d-e0e3e809a7c3"
      },
      "source": [
        "#Series -- 1-D array to store any data type\r\n",
        "import pandas as pd\r\n",
        "\r\n",
        "data=['a', 'b', 'c', 'd', 'e', 'f']\r\n",
        "index=range(len(data))\r\n",
        "a = pd.Series(data, index=index)\r\n",
        "print(a)"
      ],
      "execution_count": 1,
      "outputs": [
        {
          "output_type": "stream",
          "text": [
            "0    a\n",
            "1    b\n",
            "2    c\n",
            "3    d\n",
            "4    e\n",
            "5    f\n",
            "dtype: object\n"
          ],
          "name": "stdout"
        }
      ]
    },
    {
      "cell_type": "code",
      "metadata": {
        "id": "QRU9ngK3Aakq",
        "colab": {
          "base_uri": "https://localhost:8080/"
        },
        "outputId": "75be5584-569b-4b21-b02b-0aa2053941b7"
      },
      "source": [
        "#Series -- 1-D array to store any data type\r\n",
        "import pandas as pd\r\n",
        "\r\n",
        "data=[[1,2], [1,3], [1,4]]\r\n",
        "index=range(len(data))\r\n",
        "a = pd.Series(data, index=index)\r\n",
        "print(a)"
      ],
      "execution_count": 2,
      "outputs": [
        {
          "output_type": "stream",
          "text": [
            "0    [1, 2]\n",
            "1    [1, 3]\n",
            "2    [1, 4]\n",
            "dtype: object\n"
          ],
          "name": "stdout"
        }
      ]
    },
    {
      "cell_type": "code",
      "metadata": {
        "id": "NAEkbQfUA3UQ",
        "colab": {
          "base_uri": "https://localhost:8080/"
        },
        "outputId": "3a400e9e-c8ba-44f9-d148-984249a708a4"
      },
      "source": [
        "#Series -- 1-D array to store any data type\r\n",
        "import pandas as pd\r\n",
        "\r\n",
        "data=[{'a':0, 'b':7, 'c':6, 'd':4, 'e':1, 'f':3}]\r\n",
        "index=range(len(data))\r\n",
        "a = pd.Series(data, index=index)\r\n",
        "print(a)"
      ],
      "execution_count": 3,
      "outputs": [
        {
          "output_type": "stream",
          "text": [
            "0    {'a': 0, 'b': 7, 'c': 6, 'd': 4, 'e': 1, 'f': 3}\n",
            "dtype: object\n"
          ],
          "name": "stdout"
        }
      ]
    },
    {
      "cell_type": "code",
      "metadata": {
        "id": "h-G5G3qEBMIG",
        "colab": {
          "base_uri": "https://localhost:8080/"
        },
        "outputId": "35fb6edf-9d70-4d6b-b624-2a53482f36f0"
      },
      "source": [
        "#Series -- 1-D array to store any data type -- here dictionary\r\n",
        "import pandas as pd\r\n",
        "\r\n",
        "data={'a':0, 'b':7, 'c':6, 'd':4, 'e':1, 'f':3}\r\n",
        "a = pd.Series(data)\r\n",
        "print(a)"
      ],
      "execution_count": 4,
      "outputs": [
        {
          "output_type": "stream",
          "text": [
            "a    0\n",
            "b    7\n",
            "c    6\n",
            "d    4\n",
            "e    1\n",
            "f    3\n",
            "dtype: int64\n"
          ],
          "name": "stdout"
        }
      ]
    },
    {
      "cell_type": "code",
      "metadata": {
        "id": "e0NY765TIY-e",
        "colab": {
          "base_uri": "https://localhost:8080/"
        },
        "outputId": "6b36b101-56ad-4c39-8132-b14eec30d652"
      },
      "source": [
        "import pandas as pd\r\n",
        "data={'Name': ['John', 'William', 'Ian', 'Noah'], 'Age':[12, 15, 13, 12]}\r\n",
        "df = pd.DataFrame(data)\r\n",
        "print(df)"
      ],
      "execution_count": 5,
      "outputs": [
        {
          "output_type": "stream",
          "text": [
            "      Name  Age\n",
            "0     John   12\n",
            "1  William   15\n",
            "2      Ian   13\n",
            "3     Noah   12\n"
          ],
          "name": "stdout"
        }
      ]
    },
    {
      "cell_type": "code",
      "metadata": {
        "id": "8fPB-UMZ9KXa",
        "colab": {
          "base_uri": "https://localhost:8080/"
        },
        "outputId": "284700ee-feec-48d3-ca0f-b3397dcf9e19"
      },
      "source": [
        "#Two columns or attributes with index values starting from 0 to 3\r\n",
        "import pandas as pd\r\n",
        "\r\n",
        "data={'Name':['John', 'William', 'Ian', 'Noah'],'Age':['12', '15', '13', '12']} \r\n",
        "df = pd.DataFrame(data)\r\n",
        "\r\n",
        "print(df)"
      ],
      "execution_count": 6,
      "outputs": [
        {
          "output_type": "stream",
          "text": [
            "      Name Age\n",
            "0     John  12\n",
            "1  William  15\n",
            "2      Ian  13\n",
            "3     Noah  12\n"
          ],
          "name": "stdout"
        }
      ]
    },
    {
      "cell_type": "code",
      "metadata": {
        "id": "3KlKZW-hBn-Z"
      },
      "source": [
        "#Use two dictionaries to create a data frame\r\n",
        "d1 = {'a':1, 'b':3, 'c':5}\r\n",
        "d2 = {'a':3, 'b':2, 'c':5, 'd':6}\r\n",
        "data = {'first':d1, 'second':d2}\r\n",
        "df = pd.DataFrame(data)\r\n",
        "print(df)"
      ],
      "execution_count": null,
      "outputs": []
    },
    {
      "cell_type": "code",
      "metadata": {
        "id": "CwjJ4JDUBfIl"
      },
      "source": [
        "#Now use multiple series to create a data frame\r\n",
        "l1 = pd.Series([1, 2, 3, 4, 5])\r\n",
        "l2 = pd.Series([2, 4, 6, 8])\r\n",
        "l3 = pd.Series([3, 9, 12])\r\n",
        "\r\n",
        "data = {'first':l1, 'second':l2, 'third':l3}\r\n",
        "df = pd.DataFrame(data)\r\n",
        "print(df)\r\n"
      ],
      "execution_count": null,
      "outputs": []
    },
    {
      "cell_type": "code",
      "metadata": {
        "id": "W-ZomV7zC5hV"
      },
      "source": [
        "#Use a list now to create a dataframe\r\n",
        "import pandas as pd\r\n",
        "strlist = ['I', 'love', 'data', 'mining']\r\n",
        "df = pd.DataFrame(strlist)\r\n",
        "print(df)"
      ],
      "execution_count": null,
      "outputs": []
    },
    {
      "cell_type": "code",
      "metadata": {
        "id": "owdBVAm1ES3E"
      },
      "source": [
        "#You can transpose your data \r\n",
        "import pandas as pd\r\n",
        "l1 = [1,2,3,4,5]\r\n",
        "l2 = [1,2,3,4]\r\n",
        "l3 = [1,2,3]\r\n",
        "data = [l1, l2, l3]\r\n",
        "df = pd.DataFrame(data, ['l1', 'l2', 'l3'])\r\n",
        "df1 = pd.DataFrame(data, ['l1', 'l2', 'l3']).T\r\n",
        "print(df)\r\n",
        "print(df1)"
      ],
      "execution_count": null,
      "outputs": []
    },
    {
      "cell_type": "code",
      "metadata": {
        "id": "dalPXaY0FFwZ"
      },
      "source": [
        "#Create a dataframe and print only two columns -- name and address\r\n",
        "import pandas as pd\r\n",
        "\r\n",
        "data={'Name':['John', 'Jim', 'Ashley', 'Aimee', 'Jeff'],'Age':[24, 25, 22, 23, 27], 'Address': ['New York', 'Arizona','Minnesota', 'California', 'New York'], 'Qualification': ['MS', 'BS', 'BS', 'MS', 'PhD']}\r\n",
        "df = pd.DataFrame(data)\r\n",
        "print(df)\r\n",
        "print(df['Name'])\r\n",
        "print(df['Address'])"
      ],
      "execution_count": null,
      "outputs": []
    },
    {
      "cell_type": "code",
      "metadata": {
        "id": "uRsxhcn09oIw"
      },
      "source": [
        "#Upload a file to the notebook \r\n",
        "from google.colab import files\r\n",
        "uploaded = files.upload()\r\n"
      ],
      "execution_count": null,
      "outputs": []
    },
    {
      "cell_type": "code",
      "metadata": {
        "id": "oeWiGakh9t-l"
      },
      "source": [
        "#We have uploaded nba.csv in the previous code. Now use that for the further data analysis\r\n",
        "\r\n",
        "import pandas as pd\r\n",
        "data = pd.read_csv(\"nba.csv\", index_col=\"Name\")\r\n",
        "first=data[\"Age\"]\r\n",
        "print(first)"
      ],
      "execution_count": null,
      "outputs": []
    },
    {
      "cell_type": "code",
      "metadata": {
        "id": "jy1IXNg0-j2j"
      },
      "source": [
        "import pandas as pd\r\n",
        "data = pd.read_csv(\"nba.csv\", index_col= \"Name\")\r\n",
        "#data.loc pulls a row \r\n",
        "first = data.loc[\"Avery Bradley\"]\r\n",
        "second = data.loc[\"R.J. Hunter\"]\r\n",
        "print(first)\r\n",
        "print(second)"
      ],
      "execution_count": null,
      "outputs": []
    },
    {
      "cell_type": "code",
      "metadata": {
        "id": "EQ8qo4xe-mH0"
      },
      "source": [
        "#read 23rd row\r\n",
        "import pandas as pd\r\n",
        "data = pd.read_csv(\"nba.csv\", index_col= \"Name\")\r\n",
        "test = data.iloc[23]\r\n",
        "print(test)\r\n"
      ],
      "execution_count": null,
      "outputs": []
    },
    {
      "cell_type": "code",
      "metadata": {
        "id": "q4_35G2--n9q"
      },
      "source": [
        "#Count the number of rows\r\n",
        "data['Team'].count()"
      ],
      "execution_count": null,
      "outputs": []
    },
    {
      "cell_type": "code",
      "metadata": {
        "id": "a4Z7nYMb-p0P"
      },
      "source": [
        "#Maximum age of the players in this dataset\r\n",
        "data['Age'].max()"
      ],
      "execution_count": null,
      "outputs": []
    },
    {
      "cell_type": "code",
      "metadata": {
        "id": "U_Asan_N-rY1"
      },
      "source": [
        "#What are the teams that have players from Stanford\r\n",
        "data['Team'][data['College']=='Stanford']"
      ],
      "execution_count": null,
      "outputs": []
    },
    {
      "cell_type": "code",
      "metadata": {
        "id": "tAogp7fi-tOU"
      },
      "source": [
        "#Group the rows based on a certain common attribute \r\n",
        "#What are the teams that are there in our dataset\r\n",
        "\r\n",
        "data.groupby(['Team']).groups.keys() "
      ],
      "execution_count": null,
      "outputs": []
    },
    {
      "cell_type": "code",
      "metadata": {
        "id": "rrFN5RHb-vGv"
      },
      "source": [
        "#How many players are there from each team in our dataset \r\n",
        "data.groupby('Team')['Age'].count()"
      ],
      "execution_count": null,
      "outputs": []
    },
    {
      "cell_type": "code",
      "metadata": {
        "id": "8p8SsDvdI3Sr"
      },
      "source": [
        "#How do we find the summary of the dataframe\r\n",
        "print(data.info())"
      ],
      "execution_count": null,
      "outputs": []
    },
    {
      "cell_type": "markdown",
      "metadata": {
        "id": "4iLKlGinJHiB"
      },
      "source": [
        "#### Class Exercise"
      ]
    },
    {
      "cell_type": "markdown",
      "metadata": {
        "id": "viP4W31UMpF6"
      },
      "source": [
        "####Q.1"
      ]
    },
    {
      "cell_type": "code",
      "metadata": {
        "id": "rPZ0HgU-JGt2"
      },
      "source": [
        "#Retrieve a row by their index -- index=3\r\n",
        "print(data.iloc[3])"
      ],
      "execution_count": null,
      "outputs": []
    },
    {
      "cell_type": "markdown",
      "metadata": {
        "id": "W_Qc63iLMnMI"
      },
      "source": [
        "####Q.2"
      ]
    },
    {
      "cell_type": "code",
      "metadata": {
        "id": "7ezcXo9vJiRX"
      },
      "source": [
        "#Find the number of rows and columns\r\n",
        "#approach-1\r\n",
        "\r\n",
        "rows=len(data)\r\n",
        "cols=len(data.columns)\r\n",
        "print(rows)\r\n",
        "print(cols)"
      ],
      "execution_count": null,
      "outputs": []
    },
    {
      "cell_type": "code",
      "metadata": {
        "id": "2Ya3NSffJ-y6"
      },
      "source": [
        "#Find the number of rows and columns\r\n",
        "#approach-2\r\n",
        "rows = len(data.axes[0]) \r\n",
        "cols = len(data.axes[1]) \r\n",
        "print(rows)\r\n",
        "print(cols)\r\n"
      ],
      "execution_count": null,
      "outputs": []
    },
    {
      "cell_type": "code",
      "metadata": {
        "id": "kk0F85GxKVf8"
      },
      "source": [
        "#Return a list representing the axes of the DataFrame\r\n",
        "print(data.axes)"
      ],
      "execution_count": null,
      "outputs": []
    },
    {
      "cell_type": "markdown",
      "metadata": {
        "id": "7tmp6PrvMgol"
      },
      "source": [
        "####Q.3"
      ]
    },
    {
      "cell_type": "code",
      "metadata": {
        "id": "iy985wYUKjWu"
      },
      "source": [
        "#number of rows with missing values\r\n",
        "\r\n",
        "#Total number of missing values\r\n",
        "print(data.isnull().sum().sum())\r\n",
        "print(data.isnull())\r\n",
        "\r\n",
        "#Across columns\r\n",
        "print(data.isnull().sum())\r\n",
        "\r\n",
        "#Across rows\r\n",
        "#for i in range(len(data)):\r\n",
        "#  print(data.iloc[i].isnull().sum())\r\n",
        "\r\n",
        "#Now total number of rows with atleast 1 null value\r\n",
        "nullrows=0\r\n",
        "for i in range(len(data)):\r\n",
        "  if (data.iloc[i].isnull().sum())>0:\r\n",
        "    nullrows+=1\r\n",
        "\r\n",
        "print(nullrows)"
      ],
      "execution_count": null,
      "outputs": []
    },
    {
      "cell_type": "markdown",
      "metadata": {
        "id": "UukpWTB0MKzL"
      },
      "source": [
        "####Q.4 "
      ]
    },
    {
      "cell_type": "code",
      "metadata": {
        "id": "HNw05_9NLK4F"
      },
      "source": [
        "#replace all the missing values with 0\r\n",
        "data.fillna(0)\r\n",
        "print(print(data.isnull().sum().sum()))\r\n"
      ],
      "execution_count": null,
      "outputs": []
    }
  ]
}