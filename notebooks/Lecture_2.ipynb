{
  "nbformat": 4,
  "nbformat_minor": 0,
  "metadata": {
    "colab": {
      "name": "PredictiveAnalytics-Lecture-2.ipynb",
      "provenance": []
    },
    "kernelspec": {
      "name": "python3",
      "display_name": "Python 3"
    }
  },
  "cells": [
    {
      "cell_type": "code",
      "metadata": {
        "colab": {
          "base_uri": "https://localhost:8080/"
        },
        "id": "fTqKmXm4bEda",
        "outputId": "44754a34-b13e-4917-b32e-bdf445be9b58"
      },
      "source": [
        "dict1={}\r\n",
        "print(dict1)"
      ],
      "execution_count": null,
      "outputs": [
        {
          "output_type": "stream",
          "text": [
            "{}\n"
          ],
          "name": "stdout"
        }
      ]
    },
    {
      "cell_type": "code",
      "metadata": {
        "colab": {
          "base_uri": "https://localhost:8080/"
        },
        "id": "GFI5wgk1d0Om",
        "outputId": "a1fb9e54-d146-4074-d929-f88d409e4429"
      },
      "source": [
        "dict1={}\r\n",
        "dict1['1']=1\r\n",
        "dict1['2']=2\r\n",
        "dict1[3]=\"three\"\r\n",
        "dict1[2]=[1,2,3,4]\r\n",
        "\r\n",
        "print(dict1)\r\n",
        "print(dict1.keys())"
      ],
      "execution_count": null,
      "outputs": [
        {
          "output_type": "stream",
          "text": [
            "{'1': 1, '2': 2, 3: 'three', 2: [1, 2, 3, 4]}\n",
            "dict_keys(['1', '2', 3, 2])\n"
          ],
          "name": "stdout"
        }
      ]
    },
    {
      "cell_type": "code",
      "metadata": {
        "colab": {
          "base_uri": "https://localhost:8080/"
        },
        "id": "orvZ5eBFeSdi",
        "outputId": "039214de-5937-472e-e5c5-209525e8bb29"
      },
      "source": [
        "t1=(1,2,3)\r\n",
        "\r\n",
        "l1=[1,2,3]\r\n",
        "print(l1)"
      ],
      "execution_count": null,
      "outputs": [
        {
          "output_type": "stream",
          "text": [
            "[1, 2, 3]\n"
          ],
          "name": "stdout"
        }
      ]
    },
    {
      "cell_type": "code",
      "metadata": {
        "colab": {
          "base_uri": "https://localhost:8080/"
        },
        "id": "iCT3rVg2d0T3",
        "outputId": "d22d0407-5a8d-4944-e35a-5fbc63dfbad3"
      },
      "source": [
        "t1=(1,2,3)\r\n",
        "t2=('a','b','c')\r\n",
        "\r\n",
        "t3=t1+t2\r\n",
        "print(t3)"
      ],
      "execution_count": null,
      "outputs": [
        {
          "output_type": "stream",
          "text": [
            "(1, 2, 3, 'a', 'b', 'c')\n"
          ],
          "name": "stdout"
        }
      ]
    },
    {
      "cell_type": "code",
      "metadata": {
        "colab": {
          "base_uri": "https://localhost:8080/"
        },
        "id": "jt7GvD1ed0ZL",
        "outputId": "45b91b87-357d-4ede-dbbb-5fd068e17d51"
      },
      "source": [
        "s1=set()\r\n",
        "print(s1)\r\n"
      ],
      "execution_count": null,
      "outputs": [
        {
          "output_type": "stream",
          "text": [
            "set()\n"
          ],
          "name": "stdout"
        }
      ]
    },
    {
      "cell_type": "code",
      "metadata": {
        "colab": {
          "base_uri": "https://localhost:8080/"
        },
        "id": "-Lqu0Jstd0hN",
        "outputId": "6ef2f5e9-0122-4048-909a-8d472f9016b6"
      },
      "source": [
        "s1=set([1,2,3,3,3])\r\n",
        "print(s1)"
      ],
      "execution_count": null,
      "outputs": [
        {
          "output_type": "stream",
          "text": [
            "{1, 2, 3}\n"
          ],
          "name": "stdout"
        }
      ]
    },
    {
      "cell_type": "code",
      "metadata": {
        "colab": {
          "base_uri": "https://localhost:8080/"
        },
        "id": "UcxhOppkdzTL",
        "outputId": "9bb33c91-d6c6-45aa-f7d7-16d621a994fa"
      },
      "source": [
        "name = input('Please give your name: ')\r\n",
        "print(name)"
      ],
      "execution_count": null,
      "outputs": [
        {
          "output_type": "stream",
          "text": [
            "Please give your name: Lydia\n",
            "Lydia\n"
          ],
          "name": "stdout"
        }
      ]
    },
    {
      "cell_type": "code",
      "metadata": {
        "colab": {
          "base_uri": "https://localhost:8080/"
        },
        "id": "NJqsDAeudzZi",
        "outputId": "6aca03d8-7ce2-4f85-b8a2-4bf37a79a9b1"
      },
      "source": [
        "a=int(input(\"Please give the first number\"))\r\n",
        "b = int(input(\"Please give the second number\"))\r\n",
        "\r\n",
        "print(a*b)"
      ],
      "execution_count": null,
      "outputs": [
        {
          "output_type": "stream",
          "text": [
            "Please give the first number10\n",
            "Please give the second number10\n",
            "100\n"
          ],
          "name": "stdout"
        }
      ]
    },
    {
      "cell_type": "code",
      "metadata": {
        "colab": {
          "base_uri": "https://localhost:8080/"
        },
        "id": "R056bnF3dzfF",
        "outputId": "2848bee0-4144-477e-a4c0-5593ccfd04d4"
      },
      "source": [
        "d2 = {}\r\n",
        "\r\n",
        "key1=int(input(\"Key 1: \"))\r\n",
        "key2=int(input(\"Key 2: \"))\r\n",
        "\r\n",
        "d2[key1]=2*key1\r\n",
        "d2[key2]=2*key2\r\n",
        "#d2={1:2, 2:4}\r\n",
        "\r\n",
        "print(d2)\r\n"
      ],
      "execution_count": null,
      "outputs": [
        {
          "output_type": "stream",
          "text": [
            "Key 1: 1\n",
            "Key 2: 2\n",
            "{1: 2, 2: 4}\n"
          ],
          "name": "stdout"
        }
      ]
    },
    {
      "cell_type": "code",
      "metadata": {
        "colab": {
          "base_uri": "https://localhost:8080/"
        },
        "id": "DWmC9Qktdzks",
        "outputId": "2981baad-72bc-4097-daa8-3e5e03318668"
      },
      "source": [
        "list1 = ['hello', 'world']\r\n",
        "print(list1)\r\n",
        "\r\n",
        "for i in list1:\r\n",
        "  print(i)\r\n",
        "\r\n",
        "print(len(list1))\r\n"
      ],
      "execution_count": null,
      "outputs": [
        {
          "output_type": "stream",
          "text": [
            "['hello', 'world']\n",
            "hello\n",
            "world\n",
            "2\n"
          ],
          "name": "stdout"
        }
      ]
    },
    {
      "cell_type": "code",
      "metadata": {
        "colab": {
          "base_uri": "https://localhost:8080/"
        },
        "id": "wXkzV296h7Eu",
        "outputId": "174b3c18-3763-4cb2-8294-37d6b3a58d08"
      },
      "source": [
        "for i in range(0, 10, 1):\r\n",
        "  print(i)"
      ],
      "execution_count": null,
      "outputs": [
        {
          "output_type": "stream",
          "text": [
            "0\n",
            "1\n",
            "2\n",
            "3\n",
            "4\n",
            "5\n",
            "6\n",
            "7\n",
            "8\n",
            "9\n"
          ],
          "name": "stdout"
        }
      ]
    },
    {
      "cell_type": "code",
      "metadata": {
        "colab": {
          "base_uri": "https://localhost:8080/"
        },
        "id": "i3NuTDfuhnru",
        "outputId": "2417a466-7559-427c-e13e-187724760e05"
      },
      "source": [
        "i=0\r\n",
        "for i in range(0, len(list1)):\r\n",
        "  print(list1[i])"
      ],
      "execution_count": null,
      "outputs": [
        {
          "output_type": "stream",
          "text": [
            "hello\n",
            "world\n"
          ],
          "name": "stdout"
        }
      ]
    },
    {
      "cell_type": "code",
      "metadata": {
        "id": "629DO_Echn0K"
      },
      "source": [
        "for letter in 'predictiveanalytics':\r\n",
        "  if letter=='e' or letter=='s':\r\n",
        "    continue\r\n",
        "  print(letter)\r\n",
        "\r\n",
        "\r\n",
        "\r\n",
        "str1='predictiveanalytics'\r\n",
        "i=0\r\n",
        "while i<len(str1):\r\n",
        "  if str1[i]=='e' or str1[i]=='s':\r\n",
        "    i+=1\r\n",
        "    continue\r\n",
        "  i+=1\r\n",
        "  print(str1[i])\r\n"
      ],
      "execution_count": null,
      "outputs": []
    },
    {
      "cell_type": "code",
      "metadata": {
        "id": "0klxFQnXkvhI"
      },
      "source": [
        ""
      ],
      "execution_count": null,
      "outputs": []
    },
    {
      "cell_type": "code",
      "metadata": {
        "colab": {
          "base_uri": "https://localhost:8080/"
        },
        "id": "W2gJsTLedzpu",
        "outputId": "64c9fbc4-f1ff-4864-e134-baf0dcf47689"
      },
      "source": [
        "l1 = [1,2,3,4,5,6,7,8,9,10]\r\n",
        "#Print only the values at the indices that are even -- 0,2,4,6,8\r\n",
        "#Use a for loop\r\n",
        "\r\n",
        "for i in range(0,len(l1)):\r\n",
        "  if i%2==0:\r\n",
        "    print(l1[i])\r\n"
      ],
      "execution_count": null,
      "outputs": [
        {
          "output_type": "stream",
          "text": [
            "1\n",
            "3\n",
            "5\n",
            "7\n",
            "9\n"
          ],
          "name": "stdout"
        }
      ]
    },
    {
      "cell_type": "code",
      "metadata": {
        "id": "uW1x92VxkOSV"
      },
      "source": [
        "for i in range(0,3):\r\n",
        "  print(\"Hello World\")\r\n",
        "\r\n",
        "print(\"While\")\r\n",
        "count =0\r\n",
        "while count<3:\r\n",
        "  print(\"Hello World\")\r\n",
        "  count+=1\r\n",
        "\r\n",
        "\r\n"
      ],
      "execution_count": null,
      "outputs": []
    },
    {
      "cell_type": "code",
      "metadata": {
        "colab": {
          "base_uri": "https://localhost:8080/"
        },
        "id": "_fp4dprQkPDq",
        "outputId": "2abe9bbc-9f13-4bde-ac57-04ccf6fdaa5c"
      },
      "source": [
        "num=4\r\n",
        "\r\n",
        "if num%2==0:\r\n",
        "  print(\"Even number\")\r\n",
        "elif num%2==1:\r\n",
        "  print(\"Odd number\")\r\n",
        "else:\r\n",
        "  print(\"Never comes here\")\r\n"
      ],
      "execution_count": null,
      "outputs": [
        {
          "output_type": "stream",
          "text": [
            "Even number\n"
          ],
          "name": "stdout"
        }
      ]
    },
    {
      "cell_type": "code",
      "metadata": {
        "colab": {
          "base_uri": "https://localhost:8080/"
        },
        "id": "52wCD-iylfqJ",
        "outputId": "4ea3084d-c875-4ea9-e55a-94429870696b"
      },
      "source": [
        "def isEven(num):\r\n",
        "  if num%2==0:\r\n",
        "    return True\r\n",
        "  elif num%2==1:\r\n",
        "    return False \r\n",
        "\r\n",
        "print(isEven(10))\r\n",
        "print(isEven(11))"
      ],
      "execution_count": null,
      "outputs": [
        {
          "output_type": "stream",
          "text": [
            "True\n",
            "False\n"
          ],
          "name": "stdout"
        }
      ]
    },
    {
      "cell_type": "code",
      "metadata": {
        "colab": {
          "base_uri": "https://localhost:8080/"
        },
        "id": "H4U11ni0lf3m",
        "outputId": "05a248b3-2284-45e0-eb86-62edca89a7c8"
      },
      "source": [
        "def cube(y):\r\n",
        "  return y*y*y\r\n",
        "\r\n",
        "cube(3)"
      ],
      "execution_count": null,
      "outputs": [
        {
          "output_type": "execute_result",
          "data": {
            "text/plain": [
              "27"
            ]
          },
          "metadata": {
            "tags": []
          },
          "execution_count": 67
        }
      ]
    },
    {
      "cell_type": "code",
      "metadata": {
        "id": "WeXz6pj7lgIV"
      },
      "source": [
        "g = lambda y:y*y*y"
      ],
      "execution_count": null,
      "outputs": []
    },
    {
      "cell_type": "code",
      "metadata": {
        "colab": {
          "base_uri": "https://localhost:8080/"
        },
        "id": "dRseMnv7Tz6I",
        "outputId": "06344108-701d-4b10-e652-17e6be2f40d4"
      },
      "source": [
        "def square(x):\r\n",
        "  return x*x\r\n",
        "\r\n",
        "\r\n",
        "print(square(5))"
      ],
      "execution_count": null,
      "outputs": [
        {
          "output_type": "stream",
          "text": [
            "25\n"
          ],
          "name": "stdout"
        }
      ]
    },
    {
      "cell_type": "code",
      "metadata": {
        "colab": {
          "base_uri": "https://localhost:8080/"
        },
        "id": "P6PJjlkjUOaa",
        "outputId": "e1f46b43-d50e-48e1-a6bd-58b0fd857098"
      },
      "source": [
        "g=lambda x:x*x\r\n",
        "g(5)"
      ],
      "execution_count": null,
      "outputs": [
        {
          "output_type": "execute_result",
          "data": {
            "text/plain": [
              "25"
            ]
          },
          "metadata": {
            "tags": []
          },
          "execution_count": 70
        }
      ]
    },
    {
      "cell_type": "code",
      "metadata": {
        "colab": {
          "base_uri": "https://localhost:8080/"
        },
        "id": "VS6LLC4pUXf2",
        "outputId": "409c23ec-e241-4d2a-dfb8-0765ed2eed5c"
      },
      "source": [
        "y=8\r\n",
        "z=lambda x:x*y\r\n",
        "print(z(6))"
      ],
      "execution_count": null,
      "outputs": [
        {
          "output_type": "stream",
          "text": [
            "48\n"
          ],
          "name": "stdout"
        }
      ]
    },
    {
      "cell_type": "code",
      "metadata": {
        "id": "pbpwAAy6oObh"
      },
      "source": [
        "keywords = ['hello', 'I', 'am', 'fine', 'but', 'fine', 'is', 'fine', 'hello', 'to', 'you', 'fine']"
      ],
      "execution_count": null,
      "outputs": []
    },
    {
      "cell_type": "code",
      "metadata": {
        "id": "7RREL_UcoOsm"
      },
      "source": [
        ""
      ],
      "execution_count": null,
      "outputs": []
    },
    {
      "cell_type": "code",
      "metadata": {
        "id": "YJcDxbyxoO4k"
      },
      "source": [
        ""
      ],
      "execution_count": null,
      "outputs": []
    },
    {
      "cell_type": "code",
      "metadata": {
        "colab": {
          "base_uri": "https://localhost:8080/"
        },
        "id": "Jq3e9EiyUo05",
        "outputId": "9f69c967-8430-40d0-99ea-9b47ca5c4508"
      },
      "source": [
        "\r\n",
        "dictionary1={}\r\n",
        "for key in keywords:\r\n",
        "  try:\r\n",
        "    dictionary1[key]+=1\r\n",
        "  except:\r\n",
        "    dictionary1[key]=1\r\n",
        "\r\n",
        "print(dictionary1)"
      ],
      "execution_count": null,
      "outputs": [
        {
          "output_type": "stream",
          "text": [
            "{'hello': 2, 'I': 1, 'am': 1, 'fine': 4, 'but': 1, 'is': 1, 'to': 1, 'you': 1}\n"
          ],
          "name": "stdout"
        }
      ]
    },
    {
      "cell_type": "code",
      "metadata": {
        "colab": {
          "base_uri": "https://localhost:8080/"
        },
        "id": "9IStO-PXVB1S",
        "outputId": "394617cf-a2ed-4fa8-c2c7-50350aa8a258"
      },
      "source": [
        "keywords = ['hello', 'I', 'am', 'fine', 'but', 'fine', 'is', 'fine', 'hello', 'to', 'you', 'fine']\r\n",
        "dictionary1={}\r\n",
        "for key in keywords:\r\n",
        "  if key in dictionary1.keys():\r\n",
        "    dictionary1[key]+=1\r\n",
        "  else:\r\n",
        "    dictionary1[key]=1\r\n",
        "print(dictionary1)"
      ],
      "execution_count": null,
      "outputs": [
        {
          "output_type": "stream",
          "text": [
            "{'hello': 2, 'I': 1, 'am': 1, 'fine': 4, 'but': 1, 'is': 1, 'to': 1, 'you': 1}\n"
          ],
          "name": "stdout"
        }
      ]
    },
    {
      "cell_type": "code",
      "metadata": {
        "colab": {
          "base_uri": "https://localhost:8080/"
        },
        "id": "_IODl-u7q4Qc",
        "outputId": "0fb9bc5e-87d2-4d55-82ea-da126ed46911"
      },
      "source": [
        "type(dictionary1)"
      ],
      "execution_count": null,
      "outputs": [
        {
          "output_type": "execute_result",
          "data": {
            "text/plain": [
              "dict"
            ]
          },
          "metadata": {
            "tags": []
          },
          "execution_count": 74
        }
      ]
    },
    {
      "cell_type": "markdown",
      "metadata": {
        "id": "TkH8N-F2VStB"
      },
      "source": [
        "#### Numpy "
      ]
    },
    {
      "cell_type": "code",
      "metadata": {
        "colab": {
          "base_uri": "https://localhost:8080/"
        },
        "id": "q81c56noVSJv",
        "outputId": "dc003146-e214-48ac-df3f-3989a1a00feb"
      },
      "source": [
        "import numpy as np\r\n",
        "a = np.array([1, 2, 3, 4, 5, 6])\r\n",
        "print('A is of type:', type(a))\r\n",
        "print(a)"
      ],
      "execution_count": null,
      "outputs": [
        {
          "output_type": "stream",
          "text": [
            "A is of type: <class 'numpy.ndarray'>\n",
            "[1 2 3 4 5 6]\n"
          ],
          "name": "stdout"
        }
      ]
    },
    {
      "cell_type": "code",
      "metadata": {
        "colab": {
          "base_uri": "https://localhost:8080/"
        },
        "id": "4ohJMqeHVkdA",
        "outputId": "afcfb2e3-0727-4467-c69a-d9e75a9243dd"
      },
      "source": [
        "import numpy as np\r\n",
        "a = np.array([[1, 2, 3, 4], [5, 6, 7, 8], [9, 10, 11, 12], [13, 14,\r\n",
        "15, 16]])\r\n",
        "\r\n",
        "print(a)"
      ],
      "execution_count": null,
      "outputs": [
        {
          "output_type": "stream",
          "text": [
            "[[ 1  2  3  4]\n",
            " [ 5  6  7  8]\n",
            " [ 9 10 11 12]\n",
            " [13 14 15 16]]\n"
          ],
          "name": "stdout"
        }
      ]
    },
    {
      "cell_type": "code",
      "metadata": {
        "colab": {
          "base_uri": "https://localhost:8080/"
        },
        "id": "hfNRmrsUaAtm",
        "outputId": "27b05e00-f740-4c4e-eef8-10d3b8f5f456"
      },
      "source": [
        "import numpy as np\r\n",
        "a = np.array([1, 2, 3, 4, 5, 6])\r\n",
        "b1=10*a\r\n",
        "b2=np.multiply(10,a)\r\n",
        "print(a)\r\n",
        "print(b1)\r\n",
        "print(b2)\r\n",
        "\r\n",
        "c=np.log(a)\r\n",
        "d=np.sqrt(a)\r\n",
        "e=a**2  #This squares the value.\r\n",
        "print(c)\r\n",
        "print(d)\r\n",
        "print(e)"
      ],
      "execution_count": null,
      "outputs": [
        {
          "output_type": "stream",
          "text": [
            "[1 2 3 4 5 6]\n",
            "[10 20 30 40 50 60]\n",
            "[10 20 30 40 50 60]\n",
            "[0.         0.69314718 1.09861229 1.38629436 1.60943791 1.79175947]\n",
            "[1.         1.41421356 1.73205081 2.         2.23606798 2.44948974]\n",
            "[ 1  4  9 16 25 36]\n"
          ],
          "name": "stdout"
        }
      ]
    },
    {
      "cell_type": "code",
      "metadata": {
        "colab": {
          "base_uri": "https://localhost:8080/"
        },
        "id": "8VVnBvVXaUy1",
        "outputId": "13f052e1-11a2-484d-e87c-4434f6a769ff"
      },
      "source": [
        "#Generate random distributions\r\n",
        "a = np.random.uniform(50, 150, 10)  #Between 50-150, generate 10 variables from uniform\r\n",
        "b = np.random.standard_normal(10)   #With mean 0 and standard deviation 1 \r\n",
        "print(a)\r\n",
        "print(b)"
      ],
      "execution_count": null,
      "outputs": [
        {
          "output_type": "stream",
          "text": [
            "[113.0334884   54.51321927 145.26920878  74.43328686 143.4301836\n",
            "  54.52765362  96.8717555   96.70898962  88.43146802 123.19783281]\n",
            "[ 0.83165093  0.06342236 -1.11620395  0.05896959  0.16111082  0.99869784\n",
            " -1.21940383  1.44370769 -0.49400153 -0.82816044]\n"
          ],
          "name": "stdout"
        }
      ]
    },
    {
      "cell_type": "markdown",
      "metadata": {
        "id": "C2mwuxnUVWpY"
      },
      "source": [
        "#### Pandas\r\n"
      ]
    },
    {
      "cell_type": "code",
      "metadata": {
        "id": "SHfY-OYGVYUa"
      },
      "source": [
        "import pandas as pd\r\n",
        "\r\n",
        "data={'Name':['John', 'William', 'Ian', 'Noah'],'Age':['12', '15', '13', '12']} \r\n",
        "df = pd.DataFrame(data)\r\n",
        "\r\n",
        "print(df)"
      ],
      "execution_count": null,
      "outputs": []
    },
    {
      "cell_type": "code",
      "metadata": {
        "id": "sit852WWWVNo"
      },
      "source": [
        "import pandas as pd\r\n",
        "data={'Name': ['John', 'William', 'Ian', 'Noah'], 'Age':[12, 15, 13, 12]}\r\n",
        "df = pd.DataFrame(data)\r\n",
        "print(df)"
      ],
      "execution_count": null,
      "outputs": []
    },
    {
      "cell_type": "code",
      "metadata": {
        "colab": {
          "resources": {
            "http://localhost:8080/nbextensions/google.colab/files.js": {
              "data": "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",
              "ok": true,
              "headers": [
                [
                  "content-type",
                  "application/javascript"
                ]
              ],
              "status": 200,
              "status_text": ""
            }
          },
          "base_uri": "https://localhost:8080/",
          "height": 73
        },
        "id": "WUkTvyGRWbSU",
        "outputId": "1676af7a-3b75-4937-a53e-24e6f6a8c6b6"
      },
      "source": [
        "from google.colab import files\r\n",
        "uploaded = files.upload()\r\n"
      ],
      "execution_count": null,
      "outputs": [
        {
          "output_type": "display_data",
          "data": {
            "text/html": [
              "\n",
              "     <input type=\"file\" id=\"files-fc01c12d-9f99-4896-8908-4526f0ba6f56\" name=\"files[]\" multiple disabled\n",
              "        style=\"border:none\" />\n",
              "     <output id=\"result-fc01c12d-9f99-4896-8908-4526f0ba6f56\">\n",
              "      Upload widget is only available when the cell has been executed in the\n",
              "      current browser session. Please rerun this cell to enable.\n",
              "      </output>\n",
              "      <script src=\"/nbextensions/google.colab/files.js\"></script> "
            ],
            "text/plain": [
              "<IPython.core.display.HTML object>"
            ]
          },
          "metadata": {
            "tags": []
          }
        },
        {
          "output_type": "stream",
          "text": [
            "Saving nba.csv to nba.csv\n"
          ],
          "name": "stdout"
        }
      ]
    },
    {
      "cell_type": "code",
      "metadata": {
        "colab": {
          "base_uri": "https://localhost:8080/"
        },
        "id": "-bko0E3GW4sU",
        "outputId": "e748a1bb-39e6-40db-83b2-5faea0a9936c"
      },
      "source": [
        "import pandas as pd\r\n",
        "data = pd.read_csv(\"nba.csv\", index_col=\"Name\")\r\n",
        "first=data[\"Age\"]\r\n",
        "print(first)"
      ],
      "execution_count": null,
      "outputs": [
        {
          "output_type": "stream",
          "text": [
            "Name\n",
            "Avery Bradley    25.0\n",
            "Jae Crowder      25.0\n",
            "John Holland     27.0\n",
            "R.J. Hunter      22.0\n",
            "Jonas Jerebko    29.0\n",
            "                 ... \n",
            "Shelvin Mack     26.0\n",
            "Raul Neto        24.0\n",
            "Tibor Pleiss     26.0\n",
            "Jeff Withey      26.0\n",
            "NaN               NaN\n",
            "Name: Age, Length: 458, dtype: float64\n"
          ],
          "name": "stdout"
        }
      ]
    },
    {
      "cell_type": "code",
      "metadata": {
        "colab": {
          "base_uri": "https://localhost:8080/"
        },
        "id": "zc3u76AHXEkt",
        "outputId": "0762783c-51f2-48f2-8bf1-db2616b482dc"
      },
      "source": [
        "import pandas as pd\r\n",
        "data = pd.read_csv(\"nba.csv\", index_col= \"Name\")\r\n",
        "#data.loc pulls a row \r\n",
        "first = data.loc[\"Avery Bradley\"]\r\n",
        "second = data.loc[\"R.J. Hunter\"]\r\n",
        "print(first)\r\n",
        "print(second)"
      ],
      "execution_count": null,
      "outputs": [
        {
          "output_type": "stream",
          "text": [
            "Team        Boston Celtics\n",
            "Number                   0\n",
            "Position                PG\n",
            "Age                     25\n",
            "Height                 6-2\n",
            "Weight                 180\n",
            "College              Texas\n",
            "Salary         7.73034e+06\n",
            "Name: Avery Bradley, dtype: object\n",
            "Team        Boston Celtics\n",
            "Number                  28\n",
            "Position                SG\n",
            "Age                     22\n",
            "Height                 6-5\n",
            "Weight                 185\n",
            "College      Georgia State\n",
            "Salary         1.14864e+06\n",
            "Name: R.J. Hunter, dtype: object\n"
          ],
          "name": "stdout"
        }
      ]
    },
    {
      "cell_type": "code",
      "metadata": {
        "colab": {
          "base_uri": "https://localhost:8080/"
        },
        "id": "NtryqqVxXVd0",
        "outputId": "0b9fbce6-895e-41af-cf5a-5d8a505d7c72"
      },
      "source": [
        "#read 23rd row\r\n",
        "import pandas as pd\r\n",
        "data = pd.read_csv(\"nba.csv\", index_col= \"Name\")\r\n",
        "test = data.iloc[23]\r\n",
        "print(test)\r\n"
      ],
      "execution_count": null,
      "outputs": [
        {
          "output_type": "stream",
          "text": [
            "Team        Brooklyn Nets\n",
            "Number                 11\n",
            "Position                C\n",
            "Age                    28\n",
            "Height                7-0\n",
            "Weight                275\n",
            "College          Stanford\n",
            "Salary         1.9689e+07\n",
            "Name: Brook Lopez, dtype: object\n"
          ],
          "name": "stdout"
        }
      ]
    },
    {
      "cell_type": "code",
      "metadata": {
        "colab": {
          "base_uri": "https://localhost:8080/"
        },
        "id": "4_oVNI0_X_Gm",
        "outputId": "f7ddcddc-0ab4-4298-9ea0-a2c95600be7e"
      },
      "source": [
        "#Count the number of rows\r\n",
        "data['Team'].count()"
      ],
      "execution_count": null,
      "outputs": [
        {
          "output_type": "execute_result",
          "data": {
            "text/plain": [
              "457"
            ]
          },
          "metadata": {
            "tags": []
          },
          "execution_count": 16
        }
      ]
    },
    {
      "cell_type": "code",
      "metadata": {
        "id": "eACYPzK1YLSo"
      },
      "source": [
        "#Maximum age of the players in this dataset\r\n",
        "data['Age'].max()"
      ],
      "execution_count": null,
      "outputs": []
    },
    {
      "cell_type": "code",
      "metadata": {
        "id": "PHMGI6S8YPms"
      },
      "source": [
        "#What are the teams that have players from Stanford\r\n",
        "data['Team'][data['College']=='Stanford']"
      ],
      "execution_count": null,
      "outputs": []
    },
    {
      "cell_type": "code",
      "metadata": {
        "id": "TLuqXqP7Ye-p"
      },
      "source": [
        "#Group the rows based on a certain common attribute \r\n",
        "#What are the teams that are there in our dataset\r\n",
        "\r\n",
        "data.groupby(['Team']).groups.keys() "
      ],
      "execution_count": null,
      "outputs": []
    },
    {
      "cell_type": "code",
      "metadata": {
        "colab": {
          "base_uri": "https://localhost:8080/"
        },
        "id": "Gj_ZLziZZRUN",
        "outputId": "df09db02-5ad1-49b4-d128-d795f2785619"
      },
      "source": [
        "#How many players are there from each team in our dataset \r\n",
        "data.groupby('Team')['Age'].count()"
      ],
      "execution_count": null,
      "outputs": [
        {
          "output_type": "execute_result",
          "data": {
            "text/plain": [
              "Team\n",
              "Atlanta Hawks             15\n",
              "Boston Celtics            15\n",
              "Brooklyn Nets             15\n",
              "Charlotte Hornets         15\n",
              "Chicago Bulls             15\n",
              "Cleveland Cavaliers       15\n",
              "Dallas Mavericks          15\n",
              "Denver Nuggets            15\n",
              "Detroit Pistons           15\n",
              "Golden State Warriors     15\n",
              "Houston Rockets           15\n",
              "Indiana Pacers            15\n",
              "Los Angeles Clippers      15\n",
              "Los Angeles Lakers        15\n",
              "Memphis Grizzlies         18\n",
              "Miami Heat                15\n",
              "Milwaukee Bucks           16\n",
              "Minnesota Timberwolves    14\n",
              "New Orleans Pelicans      19\n",
              "New York Knicks           16\n",
              "Oklahoma City Thunder     15\n",
              "Orlando Magic             14\n",
              "Philadelphia 76ers        15\n",
              "Phoenix Suns              15\n",
              "Portland Trail Blazers    15\n",
              "Sacramento Kings          15\n",
              "San Antonio Spurs         15\n",
              "Toronto Raptors           15\n",
              "Utah Jazz                 15\n",
              "Washington Wizards        15\n",
              "Name: Age, dtype: int64"
            ]
          },
          "metadata": {
            "tags": []
          },
          "execution_count": 26
        }
      ]
    }
  ]
}